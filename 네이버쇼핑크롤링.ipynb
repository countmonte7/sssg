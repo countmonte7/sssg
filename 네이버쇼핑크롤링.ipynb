{
 "cells": [
  {
   "cell_type": "code",
   "execution_count": 3,
   "metadata": {},
   "outputs": [],
   "source": [
    "import requests\n",
    "\n",
    "url = 'https://search.shopping.naver.com/search/all.nhn?'\n",
    "params = {\n",
    "    'query': '코트',\n",
    "}\n",
    "'query=%EC%BD%94%ED%8A%B8&cat_id=&frm=NVSHATC'\n",
    "\n",
    "res = requests.get(url, params=params)"
   ]
  },
  {
   "cell_type": "code",
   "execution_count": 2,
   "metadata": {},
   "outputs": [
    {
     "data": {
      "text/plain": [
       "b'\\xec\\xbd\\x94\\xed\\x8a\\xb8'"
      ]
     },
     "execution_count": 2,
     "metadata": {},
     "output_type": "execute_result"
    }
   ],
   "source": [
    "'코트'.encode('utf-8')"
   ]
  },
  {
   "cell_type": "code",
   "execution_count": 4,
   "metadata": {},
   "outputs": [],
   "source": [
    "html = res.text"
   ]
  },
  {
   "cell_type": "code",
   "execution_count": 5,
   "metadata": {},
   "outputs": [
    {
     "data": {
      "text/plain": [
       "'<!DOCTYPE html>\\n<html lang=\"ko\">\\n<head>\\n\\t<meta charset=\"utf-8\"/>\\n\\t<meta name=\"referrer\" content=\"alw'"
      ]
     },
     "execution_count": 5,
     "metadata": {},
     "output_type": "execute_result"
    }
   ],
   "source": [
    "html[:100]"
   ]
  },
  {
   "cell_type": "code",
   "execution_count": 6,
   "metadata": {},
   "outputs": [],
   "source": [
    "from bs4 import BeautifulSoup"
   ]
  },
  {
   "cell_type": "code",
   "execution_count": 7,
   "metadata": {},
   "outputs": [],
   "source": [
    "soup = BeautifulSoup(html, 'html.parser')"
   ]
  },
  {
   "cell_type": "code",
   "execution_count": 14,
   "metadata": {},
   "outputs": [],
   "source": [
    "def trim(s):\n",
    "    return ' '.join(s.split())"
   ]
  },
  {
   "cell_type": "code",
   "execution_count": 22,
   "metadata": {},
   "outputs": [
    {
     "name": "stdout",
     "output_type": "stream",
     "text": [
      "카센티노 울 롱 더블 오버핏 카키 배정남 코트 129000 https://shopping-phinf.pstatic.net/main_8148250/81482501674.1.jpg?type=f140\n",
      "퍼텐더울싱글하이넥겨울롱코트 114800 https://search.pstatic.net/common/?src=https%3A%2F%2Fsearchad-phinf.pstatic.net%2FMjAxODExMjhfNDgg%2FMDAxNTQzNDA1MTQwNTk2.1-eDgBXq39vpAJ2ZMHuOVIb-WNjDgciVAgxJhAmzOtsg.CDRvlOSUJZj9sSMePcv3VMAk7S3IzoCfxCk8GVMA-r8g.PNG%2Fnad-a001-02-000000006433367_b6bdd1a0-7db0-4773-927d-6fe504819d15.png&type=w&size=200\n",
      "슬림핏 울 싱글 겨울 모직 코트 87000 https://search.pstatic.net/common/?src=https%3A%2F%2Fsearchad-phinf.pstatic.net%2FMjAxODExMjhfMjg1%2FMDAxNTQzNDA1MTc3MjYw.pGdZurWp7kaWtXCoThp4ajGu5nmLsPCEkh4clVTNoN4g.5wdDsnj1EX1IyOHY39ey7raQfjaaZrdzLC7yg55_9pgg.PNG%2Fnad-a001-02-000000004014414_c4b951b9-c044-4585-96b9-b4f9618606ba.png&type=w&size=200\n",
      "코일트 헤링본 겨울 모직 코트 97800 https://search.pstatic.net/common/?src=https%3A%2F%2Fsearchad-phinf.pstatic.net%2FMjAxOTAxMTBfMTM1%2FMDAxNTQ3MDg4NTEwMzg2._dmJ4tyObbI1W_6VdoOgaCkeJxVAtrGleNFJKw6V3F4g.mudXp3Vc2F1cBNfm9YajOxTuyqUlcQU39mehI8UVDNYg.JPEG%2F663161-1d315666-4962-4adf-8a9c-5d6f51deb51c.jpg&type=w&size=200\n",
      "로엠 앵커 체크 더블롱코트 RMJH84C01A 44450 https://shopping-phinf.pstatic.net/main_1629445/16294458394.20181221030200.jpg?type=f140\n",
      "여성 울 캐시미어 핸드메이드 롱 코트 8색상 s m l 사이즈 루즈 오버 핏 95900 https://shopping-phinf.pstatic.net/main_1654352/16543521743.20181209194854.jpg?type=f140\n",
      "조이너스 리버시블 무스탕 롱코트 106790 https://shopping-phinf.pstatic.net/main_1576809/15768093386.20181022220838.jpg?type=f140\n",
      "올젠 캐시미어혼방 싱글 코트 ZPY4CG1901 107660 https://shopping-phinf.pstatic.net/main_1584056/15840564713.20181102112318.jpg?type=f140\n",
      "랩 겨울 후디 집업 캐시 코트 AJ4WTW50 79310 https://shopping-phinf.pstatic.net/main_1567663/15676639256.20181022225725.jpg?type=f140\n",
      "밍크 롱 무스탕 84800 https://shopping-phinf.pstatic.net/main_1694371/16943712043.20190115041622.jpg?type=f140\n",
      "쿠스토바르셀로나 리버시블 테디베어 롱무스탕 코트 양면 롱 에코무스탕 덤블코트 75150 https://shopping-phinf.pstatic.net/main_1694391/16943911224.20190108182310.jpg?type=f140\n",
      "겨울 캐시미어 코트 71800 https://shopping-phinf.pstatic.net/main_1691050/16910504259.20190105164502.jpg?type=f140\n",
      "쉬즈미스 앙고라옆트임 롱코트 SWWHC41060 109000 https://shopping-phinf.pstatic.net/main_1660297/16602972723.20181213195618.jpg?type=f140\n",
      "인사일런스 BUND - Explorer Double Coat 분트 더블 오버 롱 코트 289000 https://shopping-phinf.pstatic.net/main_1573562/15735624789.20181020000031.jpg?type=f140\n",
      "루나코어스 폭스밸리 풀스킨 FAUX 무스탕 187110 https://shopping-phinf.pstatic.net/main_1565287/15652879010.20181011224901.jpg?type=f140\n",
      "수앤준 핸드메이드 소매트임코트 133000 https://shopping-phinf.pstatic.net/main_1682709/16827093376.20181230162511.jpg?type=f140\n",
      "GGPX 스웨이드 롱 무스탕 GIDCMU961F 127090 https://shopping-phinf.pstatic.net/main_1604458/16044588710.20181220011116.jpg?type=f140\n",
      "루나롱 핸드메이드코트 139500 https://shopping-phinf.pstatic.net/main_1695853/16958531733.20190109162140.jpg?type=f140\n",
      "씨씨콜렉트 일자핏 핸드메이드 모직 코트 C184MSG524 198360 https://shopping-phinf.pstatic.net/main_1593850/15938507782.20181126010241.jpg?type=f140\n",
      "테이트 여성 모혼방 체크 싱글코트 KA8W0WCH900 41300 https://shopping-phinf.pstatic.net/main_1689874/16898743269.20190113031357.jpg?type=f140\n",
      "쉬즈미스 슬림 더블 핸드메이드 코트 SWHHCI41080 115790 https://shopping-phinf.pstatic.net/main_1685371/16853712238.20190102033240.jpg?type=f140\n",
      "티몬균일가 츄아 겨울코트 선두주자인기상품 모두 균일가로 노려보자 세련된퀄리티 HANDMADE 코트 39900 https://shopping-phinf.pstatic.net//20190115_6/999c8572-1da0-4e79-be8d-e99928d754d6.jpg?type=ofullfill_200_200\n",
      "톰보이위즈 히든버튼 클래식롱코트 9108411999 165640 https://shopping-phinf.pstatic.net/main_1545354/15453543037.20180926192902.jpg?type=f140\n",
      "울100 핸드메이드 코트 107900 https://shopping-phinf.pstatic.net/main_1676541/16765411148.20181225174346.jpg?type=f140\n",
      "GGPX 핸드메이드 모직 코트 GIDACT991F 65510 https://shopping-phinf.pstatic.net/main_1591555/15915555238.20181114095837.jpg?type=f140\n",
      "로사 핸드메이드코트 83500 https://shopping-phinf.pstatic.net/main_1695884/16958846287.20190109165408.jpg?type=f140\n",
      "테디베어 뽀글이 부클 덤블 양털 롱 코트 59000 https://shopping-phinf.pstatic.net/main_1679224/16792245298.20190106010727.jpg?type=f140\n",
      "(배정남 코트) 버튼서울 카센티노 울 더블 오버핏 코트 129000 https://shopping-phinf.pstatic.net/main_8148250/81482501674.1.jpg?type=f140\n",
      "해외여성 겨울 울 양면 모직 롱코트 캐시미어 루즈핏 41100 https://shopping-phinf.pstatic.net/main_1657201/16572013596.20181226035359.jpg?type=f140\n",
      "리안뉴욕 18겨울 핸드메이드 기본 하프 코트 RMKWLC700 49800 https://shopping-phinf.pstatic.net/main_1579352/15793526731.20181031064026.jpg?type=f140\n",
      "핸드메이드 울 캐시미어 롱 코트 146430 https://shopping-phinf.pstatic.net/main_1598412/15984127619.20190105021254.jpg?type=f140\n",
      "오버핏 벨트 핸드메이드 울코트 129300 https://shopping-phinf.pstatic.net/main_1662639/16626399001.20181216004309.jpg?type=f140\n",
      "스튜디오톰보이 테일러드 카라 울 블렌드 코트 9108411032 198310 https://shopping-phinf.pstatic.net/main_1617767/16177674178.20181117215128.jpg?type=f140\n",
      "카시바디 폭스카라 맥시 FAUX 무스탕 181240 https://shopping-phinf.pstatic.net/main_1497623/14976238716.20180805184658.jpg?type=f140\n",
      "밍크 무스탕 퍼코트 66500 https://shopping-phinf.pstatic.net/main_1671181/16711817886.20190103013737.jpg?type=f140\n",
      "울 체크 핸드메이드 코트 67400 https://shopping-phinf.pstatic.net/main_1651589/16515898215.20181213022749.jpg?type=f140\n",
      "여성 핸드메이드 코트 울코트 롱코트 오버핏코트 16030 https://shopping-phinf.pstatic.net//20190115_26/b0c0806f-d0f4-4af0-bbfe-9be46384a10d.jpg?type=ofullfill_200_200\n",
      "스튜디오톰보이 히든 버튼 클래식 코트 9108411999 153340 https://shopping-phinf.pstatic.net/main_1554075/15540756225.20181025211343.jpg?type=f140\n",
      "퍼스트데이 오버핏 울 핸드메이드 오픈 롱코트 120600 https://shopping-phinf.pstatic.net/main_1584061/15840619367.20181109044452.jpg?type=f140\n",
      "(기획상품) 퀄리티 대박 오버핏 울 더블 누빔 롱코트 52000 https://shopping-phinf.pstatic.net/main_8127892/81278926673.jpg?type=f140\n",
      "리스트 미니멀 핸드메이드 캐시미어 울 코트 TWHCTI80050_CA 148920 https://shopping-phinf.pstatic.net/main_1629489/16294894934.20181128172523.jpg?type=f140\n",
      "츄아 울 50~100%여성 핸드메이드 코트 16900원~ 16900 https://shopping-phinf.pstatic.net//20190113_15/bd8dce5f-6c0d-4947-90bd-7623297fc414.jpg?type=ofullfill_200_200\n",
      "아이잗바바 양면 부드러운 인조무스탕 BICE3FSN2 199000 https://shopping-phinf.pstatic.net/main_1595108/15951084532.20181112111013.jpg?type=f140\n",
      "트렌치 밍크 퍼 카라 롱 패딩코트 97500 https://shopping-phinf.pstatic.net//20190112_11/60937fed-dc20-4de8-b30d-8eea256c611c.jpg?type=ofullfill_200_200\n"
     ]
    }
   ],
   "source": [
    "for item_tag in soup.select('#_search_list ._itemSection'):\n",
    "    name =trim(item_tag.select('a.tit')[0].text)\n",
    "    price =trim(item_tag.select('.price .num')[0].text).replace(',', '')\n",
    "    img_url = item_tag.select('img[data-original]')[0]['data-original']\n",
    "    print(name, price, img_url)"
   ]
  },
  {
   "cell_type": "code",
   "execution_count": null,
   "metadata": {},
   "outputs": [],
   "source": []
  }
 ],
 "metadata": {
  "kernelspec": {
   "display_name": "Django Shell-Plus",
   "language": "python",
   "name": "django_extensions"
  },
  "language_info": {
   "codemirror_mode": {
    "name": "ipython",
    "version": 3
   },
   "file_extension": ".py",
   "mimetype": "text/x-python",
   "name": "python",
   "nbconvert_exporter": "python",
   "pygments_lexer": "ipython3",
   "version": "3.7.0"
  }
 },
 "nbformat": 4,
 "nbformat_minor": 2
}
